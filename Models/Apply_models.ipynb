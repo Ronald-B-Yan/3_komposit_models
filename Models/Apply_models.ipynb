{
 "cells": [
  {
   "cell_type": "markdown",
   "id": "7bc357ed",
   "metadata": {},
   "source": [
    "### Интерактивное приложение в формате Notebook для построение моделей машинного обучения для прогнозирования параметров:\n",
    "#### \"Модуль упругости при растяжении\"\n",
    "#### \"Прочность при растяжении\"\n",
    "\n",
    "#### \"Соотношение матрица-наполнитель\" с использованием нейросети."
   ]
  },
  {
   "cell_type": "code",
   "execution_count": null,
   "id": "c307e8a2",
   "metadata": {},
   "outputs": [],
   "source": [
    "# Подгружаем необходимые библиотеки\n",
    "import pickle\n",
    "import pandas as pd\n",
    "from sklearn.pipeline import Pipeline\n",
    "from sklearn.preprocessing import StandardScaler, OneHotEncoder\n",
    "from sklearn.compose import ColumnTransformer\n",
    "from tensorflow import keras\n",
    "import warnings\n",
    "warnings.filterwarnings('ignore')"
   ]
  },
  {
   "cell_type": "code",
   "execution_count": 11,
   "id": "9672aad9",
   "metadata": {},
   "outputs": [
    {
     "name": "stdout",
     "output_type": "stream",
     "text": [
      "\u001b[1m1/1\u001b[0m \u001b[32m━━━━━━━━━━━━━━━━━━━━\u001b[0m\u001b[37m\u001b[0m \u001b[1m0s\u001b[0m 56ms/step\n",
      "Результат прогноза Прочности при растяжении: [2187.35792238], МПа\n",
      "======================================================================\n",
      "Результат прогноза Модуля упругости при растяжении: 73.19572857508987, ГПа\n",
      "======================================================================\n",
      "Результат прогноза Соотношение матрица-наполнитель: [3.0880105] \n"
     ]
    }
   ],
   "source": [
    "# Загрузка моделей из файлов\n",
    "with open('pipeline_KNeighborsRegressor_model_1.pkl', 'rb') as file:\n",
    "    KNeighborsRegressor_model_1 = pickle.load(file)\n",
    "\n",
    "with open('pipeline_AdaBoostRegressor_model_2.pkl', 'rb') as file:\n",
    "    AdaBoostRegressor_model_2 = pickle.load(file)\n",
    "\n",
    "NN_Sequental_model_3 = keras.models.load_model('NN_Sequental_model_3.keras')\n",
    "\n",
    "# Подготовка входных данных (10 параметров в виде списка)\n",
    "input_data = pd.DataFrame({\n",
    "    'Плотность': [float(input\n",
    "                        (f\"Введите значение Плотности (в интервале 1801-2150 кг/м3): \"))],\n",
    "    'Модуль упругости': [float(input\n",
    "                               (f\"Введите значение Модуля упругости (в интервале 2.43-1588 ГПа): \"))],\n",
    "    'Количество отвердителя': [float(input\n",
    "                                     (f\"Введите значение Количества отвердителя (в интервале 41.8-181.8 м.%): \"))], \n",
    "    'Содержание эпоксидных групп': [float(input\n",
    "                                          (f\"Введите значение Содержания эпоксидных групп (в интервале 15.88-28.62 %_2): \"))],\n",
    "    'Температура вспышки': [float(input\n",
    "                                  (f\"Введите значение Температуры вспышки (в интервале 186-385 С_2): \"))],\n",
    "    'Поверхностная плотность': [float(input\n",
    "                                      (f\"Введите значение Поверхностной плотности (в интервале 0.6-1238 г/м2): \"))],\n",
    "    'Потребление смолы': [float(input\n",
    "                                (f\"Введите значение Потребления смолы (в интервале 72-359 г/м2): \"))],\n",
    "    'Угол нашивки': [float(input\n",
    "                           (f\"Введите значение Угла нашивки (0 или 90): \"))],\n",
    "    'Шаг нашивки': [float(input\n",
    "                          (f\"Введите значение Шага нашивки (в интервале 0.14-13.48): \"))],\n",
    "    'Плотность нашивки': [float(input\n",
    "                                (f\"Введите значение Плотности нашивки (в интервале 39.33-80): \"))]\n",
    "})\n",
    "\n",
    "input_data['Угол нашивки'] = input_data['Угол нашивки'].astype('category')\n",
    "\n",
    "# Выполнение прогноза Прочности при растяжении\n",
    "prediction_param1 = KNeighborsRegressor_model_1.predict(input_data)\n",
    "\n",
    "# Выполнение прогноза Модуля упругости при растяжении\n",
    "prediction_param2 = AdaBoostRegressor_model_2.predict(input_data)\n",
    "\n",
    "# Применение обученной нейросети\n",
    "# Определение числовых и категориальных данных\n",
    "numeric_features = input_data.select_dtypes(include=['float64']).columns\n",
    "categorical_features = input_data.select_dtypes(include=['category']).columns\n",
    "\n",
    "# Создание преобразователей для числовых и категориальных данных\n",
    "numeric_transformer = Pipeline(steps=[\n",
    "    ('scaler', StandardScaler())\n",
    "])\n",
    "categorical_transformer = Pipeline(steps=[\n",
    "    ('onehot', OneHotEncoder(categories=[[0, 90]], sparse_output=False))\n",
    "])\n",
    "\n",
    "# Объединение преобразований в ColumnTransformer\n",
    "preprocessor = ColumnTransformer(\n",
    "    transformers=[\n",
    "        ('num', numeric_transformer, numeric_features),\n",
    "        ('cat', categorical_transformer, categorical_features)\n",
    "    ])\n",
    "\n",
    "# Применение предобработки\n",
    "NN_input_data = preprocessor.fit_transform(input_data)\n",
    "\n",
    "prediction_param3 = NN_Sequental_model_3.predict(NN_input_data)\n",
    "\n",
    "# Вывод результата \n",
    "print(f\"Результат прогноза Прочности при растяжении: {prediction_param1[0]}, МПа\")\n",
    "print(\"=\" * 70)\n",
    "print(f\"Результат прогноза Модуля упругости при растяжении: {prediction_param2[0]}, ГПа\")\n",
    "print(\"=\" * 70)\n",
    "print(f\"Результат прогноза Соотношение матрица-наполнитель: {prediction_param3[0]} \")\n"
   ]
  },
  {
   "cell_type": "code",
   "execution_count": 13,
   "id": "36ed8389",
   "metadata": {},
   "outputs": [
    {
     "data": {
      "text/html": [
       "<div>\n",
       "<style scoped>\n",
       "    .dataframe tbody tr th:only-of-type {\n",
       "        vertical-align: middle;\n",
       "    }\n",
       "\n",
       "    .dataframe tbody tr th {\n",
       "        vertical-align: top;\n",
       "    }\n",
       "\n",
       "    .dataframe thead th {\n",
       "        text-align: right;\n",
       "    }\n",
       "</style>\n",
       "<table border=\"1\" class=\"dataframe\">\n",
       "  <thead>\n",
       "    <tr style=\"text-align: right;\">\n",
       "      <th></th>\n",
       "      <th>Плотность</th>\n",
       "      <th>Модуль упругости</th>\n",
       "      <th>Количество отвердителя</th>\n",
       "      <th>Содержание эпоксидных групп</th>\n",
       "      <th>Температура вспышки</th>\n",
       "      <th>Поверхностная плотность</th>\n",
       "      <th>Потребление смолы</th>\n",
       "      <th>Угол нашивки</th>\n",
       "      <th>Шаг нашивки</th>\n",
       "      <th>Плотность нашивки</th>\n",
       "    </tr>\n",
       "  </thead>\n",
       "  <tbody>\n",
       "    <tr>\n",
       "      <th>0</th>\n",
       "      <td>2100.0</td>\n",
       "      <td>1400.0</td>\n",
       "      <td>170.0</td>\n",
       "      <td>25.0</td>\n",
       "      <td>320.0</td>\n",
       "      <td>1100.0</td>\n",
       "      <td>280.0</td>\n",
       "      <td>0.0</td>\n",
       "      <td>10.0</td>\n",
       "      <td>60.0</td>\n",
       "    </tr>\n",
       "  </tbody>\n",
       "</table>\n",
       "</div>"
      ],
      "text/plain": [
       "   Плотность  Модуль упругости  Количество отвердителя  \\\n",
       "0     2100.0            1400.0                   170.0   \n",
       "\n",
       "   Содержание эпоксидных групп  Температура вспышки  Поверхностная плотность  \\\n",
       "0                         25.0                320.0                   1100.0   \n",
       "\n",
       "   Потребление смолы Угол нашивки  Шаг нашивки  Плотность нашивки  \n",
       "0              280.0          0.0         10.0               60.0  "
      ]
     },
     "execution_count": 13,
     "metadata": {},
     "output_type": "execute_result"
    }
   ],
   "source": [
    "input_data"
   ]
  }
 ],
 "metadata": {
  "kernelspec": {
   "display_name": "Python 3",
   "language": "python",
   "name": "python3"
  },
  "language_info": {
   "codemirror_mode": {
    "name": "ipython",
    "version": 3
   },
   "file_extension": ".py",
   "mimetype": "text/x-python",
   "name": "python",
   "nbconvert_exporter": "python",
   "pygments_lexer": "ipython3",
   "version": "3.13.2"
  }
 },
 "nbformat": 4,
 "nbformat_minor": 5
}
